{
 "cells": [
  {
   "cell_type": "code",
   "execution_count": 1,
   "metadata": {},
   "outputs": [
    {
     "name": "stderr",
     "output_type": "stream",
     "text": [
      "Using TensorFlow backend.\n"
     ]
    }
   ],
   "source": [
    "import pandas as pd\n",
    "import matplotlib.pyplot as plt\n",
    "import seaborn as sns\n",
    "import numpy as np\n",
    "import tensorflow as tf\n",
    "\n",
    "from keras.models import Sequential\n",
    "from keras.layers import Dense, Dropout, LSTM, BatchNormalization, Embedding, Bidirectional, Conv1D, MaxPool1D, Flatten\n",
    "from keras.callbacks import TensorBoard, ModelCheckpoint\n",
    "from keras import optimizers, regularizers\n",
    "from keras.utils.np_utils import to_categorical"
   ]
  },
  {
   "cell_type": "code",
   "execution_count": 2,
   "metadata": {},
   "outputs": [],
   "source": [
    "#read the dataset\n",
    "df = pd.read_csv(\"/Users/charottamaoshmar/Documents/UOW/CSCI316 Big Data Mining/Labs/Project'/YearPredictionMSD.txt\", header = None)"
   ]
  },
  {
   "cell_type": "code",
   "execution_count": 3,
   "metadata": {},
   "outputs": [
    {
     "data": {
      "text/plain": [
       "(515345, 91)"
      ]
     },
     "execution_count": 3,
     "metadata": {},
     "output_type": "execute_result"
    }
   ],
   "source": [
    "df.shape"
   ]
  },
  {
   "cell_type": "code",
   "execution_count": 4,
   "metadata": {},
   "outputs": [
    {
     "data": {
      "text/html": [
       "<div>\n",
       "<style scoped>\n",
       "    .dataframe tbody tr th:only-of-type {\n",
       "        vertical-align: middle;\n",
       "    }\n",
       "\n",
       "    .dataframe tbody tr th {\n",
       "        vertical-align: top;\n",
       "    }\n",
       "\n",
       "    .dataframe thead th {\n",
       "        text-align: right;\n",
       "    }\n",
       "</style>\n",
       "<table border=\"1\" class=\"dataframe\">\n",
       "  <thead>\n",
       "    <tr style=\"text-align: right;\">\n",
       "      <th></th>\n",
       "      <th>0</th>\n",
       "      <th>1</th>\n",
       "      <th>2</th>\n",
       "      <th>3</th>\n",
       "      <th>4</th>\n",
       "      <th>5</th>\n",
       "      <th>6</th>\n",
       "      <th>7</th>\n",
       "      <th>8</th>\n",
       "      <th>9</th>\n",
       "      <th>...</th>\n",
       "      <th>81</th>\n",
       "      <th>82</th>\n",
       "      <th>83</th>\n",
       "      <th>84</th>\n",
       "      <th>85</th>\n",
       "      <th>86</th>\n",
       "      <th>87</th>\n",
       "      <th>88</th>\n",
       "      <th>89</th>\n",
       "      <th>90</th>\n",
       "    </tr>\n",
       "  </thead>\n",
       "  <tbody>\n",
       "    <tr>\n",
       "      <th>0</th>\n",
       "      <td>2001</td>\n",
       "      <td>49.94357</td>\n",
       "      <td>21.47114</td>\n",
       "      <td>73.07750</td>\n",
       "      <td>8.74861</td>\n",
       "      <td>-17.40628</td>\n",
       "      <td>-13.09905</td>\n",
       "      <td>-25.01202</td>\n",
       "      <td>-12.23257</td>\n",
       "      <td>7.83089</td>\n",
       "      <td>...</td>\n",
       "      <td>13.01620</td>\n",
       "      <td>-54.40548</td>\n",
       "      <td>58.99367</td>\n",
       "      <td>15.37344</td>\n",
       "      <td>1.11144</td>\n",
       "      <td>-23.08793</td>\n",
       "      <td>68.40795</td>\n",
       "      <td>-1.82223</td>\n",
       "      <td>-27.46348</td>\n",
       "      <td>2.26327</td>\n",
       "    </tr>\n",
       "    <tr>\n",
       "      <th>1</th>\n",
       "      <td>2001</td>\n",
       "      <td>48.73215</td>\n",
       "      <td>18.42930</td>\n",
       "      <td>70.32679</td>\n",
       "      <td>12.94636</td>\n",
       "      <td>-10.32437</td>\n",
       "      <td>-24.83777</td>\n",
       "      <td>8.76630</td>\n",
       "      <td>-0.92019</td>\n",
       "      <td>18.76548</td>\n",
       "      <td>...</td>\n",
       "      <td>5.66812</td>\n",
       "      <td>-19.68073</td>\n",
       "      <td>33.04964</td>\n",
       "      <td>42.87836</td>\n",
       "      <td>-9.90378</td>\n",
       "      <td>-32.22788</td>\n",
       "      <td>70.49388</td>\n",
       "      <td>12.04941</td>\n",
       "      <td>58.43453</td>\n",
       "      <td>26.92061</td>\n",
       "    </tr>\n",
       "    <tr>\n",
       "      <th>2</th>\n",
       "      <td>2001</td>\n",
       "      <td>50.95714</td>\n",
       "      <td>31.85602</td>\n",
       "      <td>55.81851</td>\n",
       "      <td>13.41693</td>\n",
       "      <td>-6.57898</td>\n",
       "      <td>-18.54940</td>\n",
       "      <td>-3.27872</td>\n",
       "      <td>-2.35035</td>\n",
       "      <td>16.07017</td>\n",
       "      <td>...</td>\n",
       "      <td>3.03800</td>\n",
       "      <td>26.05866</td>\n",
       "      <td>-50.92779</td>\n",
       "      <td>10.93792</td>\n",
       "      <td>-0.07568</td>\n",
       "      <td>43.20130</td>\n",
       "      <td>-115.00698</td>\n",
       "      <td>-0.05859</td>\n",
       "      <td>39.67068</td>\n",
       "      <td>-0.66345</td>\n",
       "    </tr>\n",
       "    <tr>\n",
       "      <th>3</th>\n",
       "      <td>2001</td>\n",
       "      <td>48.24750</td>\n",
       "      <td>-1.89837</td>\n",
       "      <td>36.29772</td>\n",
       "      <td>2.58776</td>\n",
       "      <td>0.97170</td>\n",
       "      <td>-26.21683</td>\n",
       "      <td>5.05097</td>\n",
       "      <td>-10.34124</td>\n",
       "      <td>3.55005</td>\n",
       "      <td>...</td>\n",
       "      <td>34.57337</td>\n",
       "      <td>-171.70734</td>\n",
       "      <td>-16.96705</td>\n",
       "      <td>-46.67617</td>\n",
       "      <td>-12.51516</td>\n",
       "      <td>82.58061</td>\n",
       "      <td>-72.08993</td>\n",
       "      <td>9.90558</td>\n",
       "      <td>199.62971</td>\n",
       "      <td>18.85382</td>\n",
       "    </tr>\n",
       "    <tr>\n",
       "      <th>4</th>\n",
       "      <td>2001</td>\n",
       "      <td>50.97020</td>\n",
       "      <td>42.20998</td>\n",
       "      <td>67.09964</td>\n",
       "      <td>8.46791</td>\n",
       "      <td>-15.85279</td>\n",
       "      <td>-16.81409</td>\n",
       "      <td>-12.48207</td>\n",
       "      <td>-9.37636</td>\n",
       "      <td>12.63699</td>\n",
       "      <td>...</td>\n",
       "      <td>9.92661</td>\n",
       "      <td>-55.95724</td>\n",
       "      <td>64.92712</td>\n",
       "      <td>-17.72522</td>\n",
       "      <td>-1.49237</td>\n",
       "      <td>-7.50035</td>\n",
       "      <td>51.76631</td>\n",
       "      <td>7.88713</td>\n",
       "      <td>55.66926</td>\n",
       "      <td>28.74903</td>\n",
       "    </tr>\n",
       "  </tbody>\n",
       "</table>\n",
       "<p>5 rows × 91 columns</p>\n",
       "</div>"
      ],
      "text/plain": [
       "     0         1         2         3         4         5         6         7   \\\n",
       "0  2001  49.94357  21.47114  73.07750   8.74861 -17.40628 -13.09905 -25.01202   \n",
       "1  2001  48.73215  18.42930  70.32679  12.94636 -10.32437 -24.83777   8.76630   \n",
       "2  2001  50.95714  31.85602  55.81851  13.41693  -6.57898 -18.54940  -3.27872   \n",
       "3  2001  48.24750  -1.89837  36.29772   2.58776   0.97170 -26.21683   5.05097   \n",
       "4  2001  50.97020  42.20998  67.09964   8.46791 -15.85279 -16.81409 -12.48207   \n",
       "\n",
       "         8         9   ...        81         82        83        84        85  \\\n",
       "0 -12.23257   7.83089  ...  13.01620  -54.40548  58.99367  15.37344   1.11144   \n",
       "1  -0.92019  18.76548  ...   5.66812  -19.68073  33.04964  42.87836  -9.90378   \n",
       "2  -2.35035  16.07017  ...   3.03800   26.05866 -50.92779  10.93792  -0.07568   \n",
       "3 -10.34124   3.55005  ...  34.57337 -171.70734 -16.96705 -46.67617 -12.51516   \n",
       "4  -9.37636  12.63699  ...   9.92661  -55.95724  64.92712 -17.72522  -1.49237   \n",
       "\n",
       "         86         87        88         89        90  \n",
       "0 -23.08793   68.40795  -1.82223  -27.46348   2.26327  \n",
       "1 -32.22788   70.49388  12.04941   58.43453  26.92061  \n",
       "2  43.20130 -115.00698  -0.05859   39.67068  -0.66345  \n",
       "3  82.58061  -72.08993   9.90558  199.62971  18.85382  \n",
       "4  -7.50035   51.76631   7.88713   55.66926  28.74903  \n",
       "\n",
       "[5 rows x 91 columns]"
      ]
     },
     "execution_count": 4,
     "metadata": {},
     "output_type": "execute_result"
    }
   ],
   "source": [
    "df.head()"
   ]
  },
  {
   "cell_type": "code",
   "execution_count": 5,
   "metadata": {},
   "outputs": [
    {
     "data": {
      "text/plain": [
       "0     0\n",
       "1     0\n",
       "2     0\n",
       "3     0\n",
       "4     0\n",
       "5     0\n",
       "6     0\n",
       "7     0\n",
       "8     0\n",
       "9     0\n",
       "10    0\n",
       "11    0\n",
       "12    0\n",
       "13    0\n",
       "14    0\n",
       "15    0\n",
       "16    0\n",
       "17    0\n",
       "18    0\n",
       "19    0\n",
       "20    0\n",
       "21    0\n",
       "22    0\n",
       "23    0\n",
       "24    0\n",
       "25    0\n",
       "26    0\n",
       "27    0\n",
       "28    0\n",
       "29    0\n",
       "     ..\n",
       "61    0\n",
       "62    0\n",
       "63    0\n",
       "64    0\n",
       "65    0\n",
       "66    0\n",
       "67    0\n",
       "68    0\n",
       "69    0\n",
       "70    0\n",
       "71    0\n",
       "72    0\n",
       "73    0\n",
       "74    0\n",
       "75    0\n",
       "76    0\n",
       "77    0\n",
       "78    0\n",
       "79    0\n",
       "80    0\n",
       "81    0\n",
       "82    0\n",
       "83    0\n",
       "84    0\n",
       "85    0\n",
       "86    0\n",
       "87    0\n",
       "88    0\n",
       "89    0\n",
       "90    0\n",
       "Length: 91, dtype: int64"
      ]
     },
     "execution_count": 5,
     "metadata": {},
     "output_type": "execute_result"
    }
   ],
   "source": [
    "df.isnull().sum()"
   ]
  },
  {
   "cell_type": "code",
   "execution_count": 6,
   "metadata": {},
   "outputs": [
    {
     "data": {
      "text/plain": [
       "0       int64\n",
       "1     float64\n",
       "2     float64\n",
       "3     float64\n",
       "4     float64\n",
       "5     float64\n",
       "6     float64\n",
       "7     float64\n",
       "8     float64\n",
       "9     float64\n",
       "10    float64\n",
       "11    float64\n",
       "12    float64\n",
       "13    float64\n",
       "14    float64\n",
       "15    float64\n",
       "16    float64\n",
       "17    float64\n",
       "18    float64\n",
       "19    float64\n",
       "20    float64\n",
       "21    float64\n",
       "22    float64\n",
       "23    float64\n",
       "24    float64\n",
       "25    float64\n",
       "26    float64\n",
       "27    float64\n",
       "28    float64\n",
       "29    float64\n",
       "       ...   \n",
       "61    float64\n",
       "62    float64\n",
       "63    float64\n",
       "64    float64\n",
       "65    float64\n",
       "66    float64\n",
       "67    float64\n",
       "68    float64\n",
       "69    float64\n",
       "70    float64\n",
       "71    float64\n",
       "72    float64\n",
       "73    float64\n",
       "74    float64\n",
       "75    float64\n",
       "76    float64\n",
       "77    float64\n",
       "78    float64\n",
       "79    float64\n",
       "80    float64\n",
       "81    float64\n",
       "82    float64\n",
       "83    float64\n",
       "84    float64\n",
       "85    float64\n",
       "86    float64\n",
       "87    float64\n",
       "88    float64\n",
       "89    float64\n",
       "90    float64\n",
       "Length: 91, dtype: object"
      ]
     },
     "execution_count": 6,
     "metadata": {},
     "output_type": "execute_result"
    }
   ],
   "source": [
    "df.dtypes"
   ]
  },
  {
   "cell_type": "code",
   "execution_count": 7,
   "metadata": {},
   "outputs": [],
   "source": [
    "#for easy normalization and reshaping later\n",
    "x = df.iloc[:, 1:].to_numpy()\n",
    "y = df.iloc[:, 0].to_numpy()"
   ]
  },
  {
   "cell_type": "code",
   "execution_count": 8,
   "metadata": {},
   "outputs": [
    {
     "data": {
      "text/plain": [
       "(515345, 90)"
      ]
     },
     "execution_count": 8,
     "metadata": {},
     "output_type": "execute_result"
    }
   ],
   "source": [
    "x.shape"
   ]
  },
  {
   "cell_type": "code",
   "execution_count": 9,
   "metadata": {},
   "outputs": [
    {
     "data": {
      "text/plain": [
       "(515345,)"
      ]
     },
     "execution_count": 9,
     "metadata": {},
     "output_type": "execute_result"
    }
   ],
   "source": [
    "y.shape"
   ]
  },
  {
   "cell_type": "code",
   "execution_count": 10,
   "metadata": {},
   "outputs": [],
   "source": [
    "#normalize values between 0 and 1\n",
    "x = (x - x.min()) / (x.max() - x.min())"
   ]
  },
  {
   "cell_type": "code",
   "execution_count": 11,
   "metadata": {},
   "outputs": [],
   "source": [
    "x_train = x[:463715]\n",
    "x_test = x[463715:]\n",
    "y_train = y[:463715]\n",
    "y_test = y[463715:]"
   ]
  },
  {
   "cell_type": "code",
   "execution_count": 12,
   "metadata": {},
   "outputs": [
    {
     "data": {
      "text/plain": [
       "(51630,)"
      ]
     },
     "execution_count": 12,
     "metadata": {},
     "output_type": "execute_result"
    }
   ],
   "source": [
    "y_test.shape"
   ]
  },
  {
   "cell_type": "code",
   "execution_count": 13,
   "metadata": {},
   "outputs": [],
   "source": [
    "#optimizer is declared externally so learning rate can be specified\n",
    "opt = optimizers.Adam(lr=0.1)"
   ]
  },
  {
   "cell_type": "code",
   "execution_count": null,
   "metadata": {},
   "outputs": [],
   "source": []
  },
  {
   "cell_type": "code",
   "execution_count": 14,
   "metadata": {},
   "outputs": [],
   "source": [
    "#now let's build the MLP model\n",
    "mlp_model = Sequential()\n",
    "\n",
    "mlp_model.add(Dense(64, input_dim=90, \\\n",
    "                    kernel_regularizer=\\\n",
    "                    regularizers.l2(0.01),\\\n",
    "                    activation='relu'))\n",
    "mlp_model.add(Dropout(0.2))\n",
    "mlp_model.add(Dense(32, activation='relu'))\n",
    "mlp_model.add(Dropout(0.2))\n",
    "mlp_model.add(Dense(16, activation='relu'))\n",
    "mlp_model.add(Dropout(0.2))\n",
    "mlp_model.add(Dense(8, activation='relu'))\n",
    "mlp_model.add(Dropout(0.2))\n",
    "mlp_model.add(Dense(1, activation='linear'))"
   ]
  },
  {
   "cell_type": "code",
   "execution_count": 15,
   "metadata": {},
   "outputs": [
    {
     "name": "stdout",
     "output_type": "stream",
     "text": [
      "Model: \"sequential_1\"\n",
      "_________________________________________________________________\n",
      "Layer (type)                 Output Shape              Param #   \n",
      "=================================================================\n",
      "dense_1 (Dense)              (None, 64)                5824      \n",
      "_________________________________________________________________\n",
      "dropout_1 (Dropout)          (None, 64)                0         \n",
      "_________________________________________________________________\n",
      "dense_2 (Dense)              (None, 32)                2080      \n",
      "_________________________________________________________________\n",
      "dropout_2 (Dropout)          (None, 32)                0         \n",
      "_________________________________________________________________\n",
      "dense_3 (Dense)              (None, 16)                528       \n",
      "_________________________________________________________________\n",
      "dropout_3 (Dropout)          (None, 16)                0         \n",
      "_________________________________________________________________\n",
      "dense_4 (Dense)              (None, 8)                 136       \n",
      "_________________________________________________________________\n",
      "dropout_4 (Dropout)          (None, 8)                 0         \n",
      "_________________________________________________________________\n",
      "dense_5 (Dense)              (None, 1)                 9         \n",
      "=================================================================\n",
      "Total params: 8,577\n",
      "Trainable params: 8,577\n",
      "Non-trainable params: 0\n",
      "_________________________________________________________________\n"
     ]
    }
   ],
   "source": [
    "mlp_model.summary()"
   ]
  },
  {
   "cell_type": "code",
   "execution_count": 16,
   "metadata": {},
   "outputs": [],
   "source": [
    "mlp_model.compile(loss='mean_squared_error', \\\n",
    "                  optimizer=opt, metrics=['mse'])"
   ]
  },
  {
   "cell_type": "code",
   "execution_count": 17,
   "metadata": {},
   "outputs": [
    {
     "name": "stdout",
     "output_type": "stream",
     "text": [
      "Train on 463715 samples, validate on 51630 samples\n",
      "Epoch 1/50\n",
      " - 3s - loss: 525924.3664 - mse: 525917.5000 - val_loss: 264288.7877 - val_mse: 264285.9688\n",
      "Epoch 2/50\n",
      " - 3s - loss: 343660.4961 - mse: 343658.5625 - val_loss: 137212.9762 - val_mse: 137211.6406\n",
      "Epoch 3/50\n",
      " - 3s - loss: 306765.5080 - mse: 306764.2500 - val_loss: 66489.5773 - val_mse: 66488.6172\n",
      "Epoch 4/50\n",
      " - 3s - loss: 274050.8997 - mse: 274049.9688 - val_loss: 50580.0948 - val_mse: 50579.2617\n",
      "Epoch 5/50\n",
      " - 3s - loss: 244458.9210 - mse: 244458.2500 - val_loss: 26853.7280 - val_mse: 26852.9844\n",
      "Epoch 6/50\n",
      " - 3s - loss: 217224.8082 - mse: 217224.1250 - val_loss: 17741.9215 - val_mse: 17741.2422\n",
      "Epoch 7/50\n",
      " - 3s - loss: 184457.2547 - mse: 184456.6406 - val_loss: 13747.8481 - val_mse: 13747.2744\n",
      "Epoch 8/50\n",
      " - 3s - loss: 164887.9701 - mse: 164887.4531 - val_loss: 12596.5430 - val_mse: 12596.0967\n",
      "Epoch 9/50\n",
      " - 3s - loss: 147053.7739 - mse: 147053.3438 - val_loss: 13133.3228 - val_mse: 13133.0117\n",
      "Epoch 10/50\n",
      " - 3s - loss: 129662.7096 - mse: 129662.5000 - val_loss: 10365.7915 - val_mse: 10365.6006\n",
      "Epoch 11/50\n",
      " - 3s - loss: 114100.7573 - mse: 114100.6328 - val_loss: 6809.7772 - val_mse: 6809.6763\n",
      "Epoch 12/50\n",
      " - 3s - loss: 98800.4814 - mse: 98800.3672 - val_loss: 7001.3628 - val_mse: 7001.3203\n",
      "Epoch 13/50\n",
      " - 3s - loss: 85142.0372 - mse: 85142.0078 - val_loss: 5747.3424 - val_mse: 5747.3281\n",
      "Epoch 14/50\n",
      " - 3s - loss: 72597.2187 - mse: 72597.2500 - val_loss: 4685.5139 - val_mse: 4685.5107\n",
      "Epoch 15/50\n",
      " - 3s - loss: 60964.4210 - mse: 60964.4414 - val_loss: 4306.2054 - val_mse: 4306.2065\n",
      "Epoch 16/50\n",
      " - 3s - loss: 50359.8342 - mse: 50359.8125 - val_loss: 2948.3656 - val_mse: 2948.3657\n",
      "Epoch 17/50\n",
      " - 3s - loss: 41102.5534 - mse: 41102.5430 - val_loss: 3241.1338 - val_mse: 3241.1343\n",
      "Epoch 18/50\n",
      " - 3s - loss: 32715.2957 - mse: 32715.3047 - val_loss: 2219.0695 - val_mse: 2219.0693\n",
      "Epoch 19/50\n",
      " - 3s - loss: 25353.1000 - mse: 25353.1133 - val_loss: 2065.2676 - val_mse: 2065.2671\n",
      "Epoch 20/50\n",
      " - 3s - loss: 19031.1538 - mse: 19031.1543 - val_loss: 1501.9386 - val_mse: 1501.9386\n",
      "Epoch 21/50\n",
      " - 3s - loss: 13900.4698 - mse: 13900.4717 - val_loss: 785.6462 - val_mse: 785.6461\n",
      "Epoch 22/50\n",
      " - 3s - loss: 9564.5080 - mse: 9564.5010 - val_loss: 378.7222 - val_mse: 378.7222\n",
      "Epoch 23/50\n",
      " - 3s - loss: 6212.5388 - mse: 6212.5420 - val_loss: 408.5648 - val_mse: 408.5648\n",
      "Epoch 24/50\n",
      " - 3s - loss: 3710.0122 - mse: 3710.0110 - val_loss: 292.4291 - val_mse: 292.4292\n",
      "Epoch 25/50\n",
      " - 3s - loss: 1974.9734 - mse: 1974.9739 - val_loss: 245.4585 - val_mse: 245.4585\n",
      "Epoch 26/50\n",
      " - 3s - loss: 916.0202 - mse: 916.0210 - val_loss: 126.9963 - val_mse: 126.9963\n",
      "Epoch 27/50\n",
      " - 3s - loss: 371.7246 - mse: 371.7248 - val_loss: 122.7746 - val_mse: 122.7746\n",
      "Epoch 28/50\n",
      " - 3s - loss: 172.4660 - mse: 172.4660 - val_loss: 119.6829 - val_mse: 119.6829\n",
      "Epoch 29/50\n",
      " - 3s - loss: 127.8277 - mse: 127.8277 - val_loss: 121.4781 - val_mse: 121.4781\n",
      "Epoch 30/50\n",
      " - 3s - loss: 122.8423 - mse: 122.8423 - val_loss: 118.2642 - val_mse: 118.2642\n",
      "Epoch 31/50\n",
      " - 3s - loss: 122.8306 - mse: 122.8306 - val_loss: 120.6899 - val_mse: 120.6899\n",
      "Epoch 32/50\n",
      " - 3s - loss: 121.9752 - mse: 121.9751 - val_loss: 120.9083 - val_mse: 120.9083\n",
      "Epoch 33/50\n",
      " - 3s - loss: 122.5601 - mse: 122.5601 - val_loss: 117.9806 - val_mse: 117.9806\n",
      "Epoch 34/50\n",
      " - 3s - loss: 121.2823 - mse: 121.2824 - val_loss: 119.0918 - val_mse: 119.0918\n",
      "Epoch 35/50\n",
      " - 3s - loss: 121.2458 - mse: 121.2457 - val_loss: 118.1243 - val_mse: 118.1243\n",
      "Epoch 36/50\n",
      " - 3s - loss: 120.2898 - mse: 120.2899 - val_loss: 117.8177 - val_mse: 117.8177\n",
      "Epoch 37/50\n",
      " - 3s - loss: 119.9773 - mse: 119.9772 - val_loss: 117.8462 - val_mse: 117.8462\n",
      "Epoch 38/50\n",
      " - 3s - loss: 119.7063 - mse: 119.7062 - val_loss: 117.7844 - val_mse: 117.7844\n",
      "Epoch 39/50\n",
      " - 3s - loss: 119.6959 - mse: 119.6959 - val_loss: 117.7785 - val_mse: 117.7785\n",
      "Epoch 40/50\n",
      " - 3s - loss: 119.7003 - mse: 119.7003 - val_loss: 117.7648 - val_mse: 117.7648\n",
      "Epoch 41/50\n",
      " - 3s - loss: 119.6964 - mse: 119.6964 - val_loss: 117.7749 - val_mse: 117.7749\n",
      "Epoch 42/50\n",
      " - 3s - loss: 119.6999 - mse: 119.7000 - val_loss: 117.8366 - val_mse: 117.8366\n",
      "Epoch 43/50\n",
      " - 3s - loss: 119.6947 - mse: 119.6947 - val_loss: 117.7640 - val_mse: 117.7640\n",
      "Epoch 44/50\n",
      " - 3s - loss: 119.7023 - mse: 119.7023 - val_loss: 117.7684 - val_mse: 117.7684\n",
      "Epoch 45/50\n",
      " - 3s - loss: 119.6975 - mse: 119.6975 - val_loss: 117.8150 - val_mse: 117.8150\n",
      "Epoch 46/50\n",
      " - 3s - loss: 119.6996 - mse: 119.6996 - val_loss: 117.8360 - val_mse: 117.8360\n",
      "Epoch 47/50\n",
      " - 3s - loss: 119.7061 - mse: 119.7061 - val_loss: 117.8077 - val_mse: 117.8077\n",
      "Epoch 48/50\n",
      " - 3s - loss: 119.7053 - mse: 119.7054 - val_loss: 117.8844 - val_mse: 117.8844\n",
      "Epoch 49/50\n",
      " - 3s - loss: 119.7068 - mse: 119.7068 - val_loss: 117.7734 - val_mse: 117.7734\n",
      "Epoch 50/50\n",
      " - 3s - loss: 119.7014 - mse: 119.7014 - val_loss: 117.7666 - val_mse: 117.7666\n"
     ]
    }
   ],
   "source": [
    "history = mlp_model.fit(x_train, y_train, \\\n",
    "                        epochs=50, batch_size=512, \\\n",
    "                        verbose=2, \\\n",
    "                        validation_data = [x_test, y_test])"
   ]
  },
  {
   "cell_type": "code",
   "execution_count": 18,
   "metadata": {},
   "outputs": [
    {
     "data": {
      "image/png": "[encoded data removed]",
      "text/plain": [
       "<Figure size 432x288 with 1 Axes>"
      ]
     },
     "metadata": {
      "needs_background": "light"
     },
     "output_type": "display_data"
    }
   ],
   "source": [
    "#Plotting of our MLP model\n",
    "plt.plot(history.history['loss'])\n",
    "plt.plot(history.history['val_loss'])\n",
    "plt.title('MLP model loss')\n",
    "plt.ylabel('loss')\n",
    "plt.xlabel('epoch')\n",
    "plt.legend(['train', 'test'], loc='upper right')\n",
    "plt.show()"
   ]
  },
  {
   "cell_type": "code",
   "execution_count": null,
   "metadata": {},
   "outputs": [],
   "source": []
  },
  {
   "cell_type": "code",
   "execution_count": 14,
   "metadata": {},
   "outputs": [
    {
     "data": {
      "text/plain": [
       "numpy.ndarray"
      ]
     },
     "execution_count": 14,
     "metadata": {},
     "output_type": "execute_result"
    }
   ],
   "source": [
    "type(x_train)"
   ]
  },
  {
   "cell_type": "code",
   "execution_count": 15,
   "metadata": {},
   "outputs": [
    {
     "data": {
      "text/plain": [
       "numpy.ndarray"
      ]
     },
     "execution_count": 15,
     "metadata": {},
     "output_type": "execute_result"
    }
   ],
   "source": [
    "type(y_test)"
   ]
  },
  {
   "cell_type": "code",
   "execution_count": 16,
   "metadata": {},
   "outputs": [],
   "source": [
    "#reshape so it can fit in Conv1D, which is necessary for CNN\n",
    "x_train = x_train.reshape(463715, 90, 1)\n",
    "x_test = x_test.reshape(51630, 90, 1)"
   ]
  },
  {
   "cell_type": "code",
   "execution_count": 17,
   "metadata": {},
   "outputs": [
    {
     "data": {
      "text/plain": [
       "(463715, 90, 1)"
      ]
     },
     "execution_count": 17,
     "metadata": {},
     "output_type": "execute_result"
    }
   ],
   "source": [
    "#shape has been altered\n",
    "x_train.shape"
   ]
  },
  {
   "cell_type": "code",
   "execution_count": 27,
   "metadata": {},
   "outputs": [],
   "source": [
    "#let's build the CNN model\n",
    "cnn_model = Sequential()\n",
    "cnn_model.add(Conv1D(filters=32, kernel_size=5, \\\n",
    "                     input_shape=(90,1), \\\n",
    "                     activation='relu'))\n",
    "cnn_model.add(Conv1D(filters=32, kernel_size=5, \\\n",
    "                     activation='relu'))\n",
    "cnn_model.add(MaxPool1D(pool_size=3))\n",
    "cnn_model.add(Flatten())\n",
    "cnn_model.add(Dropout(0.3))\n",
    "cnn_model.add(Dense(128, activation = 'relu'))\n",
    "cnn_model.add(Dense(64, activation = 'relu'))\n",
    "cnn_model.add(Dense(1, activation = 'linear'))"
   ]
  },
  {
   "cell_type": "code",
   "execution_count": 28,
   "metadata": {},
   "outputs": [],
   "source": [
    "cnn_model.compile(loss = 'mean_squared_error', \\\n",
    "                  optimizer = opt, metrics = ['mse'])"
   ]
  },
  {
   "cell_type": "code",
   "execution_count": 29,
   "metadata": {},
   "outputs": [
    {
     "name": "stdout",
     "output_type": "stream",
     "text": [
      "Model: \"sequential_3\"\n",
      "_________________________________________________________________\n",
      "Layer (type)                 Output Shape              Param #   \n",
      "=================================================================\n",
      "conv1d_5 (Conv1D)            (None, 86, 32)            192       \n",
      "_________________________________________________________________\n",
      "conv1d_6 (Conv1D)            (None, 82, 32)            5152      \n",
      "_________________________________________________________________\n",
      "max_pooling1d_3 (MaxPooling1 (None, 27, 32)            0         \n",
      "_________________________________________________________________\n",
      "flatten_3 (Flatten)          (None, 864)               0         \n",
      "_________________________________________________________________\n",
      "dense_7 (Dense)              (None, 128)               110720    \n",
      "_________________________________________________________________\n",
      "dropout_3 (Dropout)          (None, 128)               0         \n",
      "_________________________________________________________________\n",
      "dense_8 (Dense)              (None, 64)                8256      \n",
      "_________________________________________________________________\n",
      "dropout_4 (Dropout)          (None, 64)                0         \n",
      "_________________________________________________________________\n",
      "dense_9 (Dense)              (None, 1)                 65        \n",
      "=================================================================\n",
      "Total params: 124,385\n",
      "Trainable params: 124,385\n",
      "Non-trainable params: 0\n",
      "_________________________________________________________________\n"
     ]
    }
   ],
   "source": [
    "cnn_model.summary()"
   ]
  },
  {
   "cell_type": "code",
   "execution_count": 30,
   "metadata": {},
   "outputs": [
    {
     "name": "stdout",
     "output_type": "stream",
     "text": [
      "Train on 463715 samples, validate on 51630 samples\n",
      "Epoch 1/5\n",
      " - 46s - loss: 42603330.2966 - mse: 42603384.0000 - val_loss: 177170.9421 - val_mse: 177170.9531\n",
      "Epoch 2/5\n",
      " - 49s - loss: 829775.1905 - mse: 829774.9375 - val_loss: 156185.2244 - val_mse: 156185.2188\n",
      "Epoch 3/5\n",
      " - 38s - loss: 801154.3394 - mse: 801154.5000 - val_loss: 157676.5862 - val_mse: 157676.5781\n",
      "Epoch 4/5\n",
      " - 38s - loss: 754433.1244 - mse: 754433.1250 - val_loss: 120730.4459 - val_mse: 120730.4453\n",
      "Epoch 5/5\n",
      " - 38s - loss: 663834.5601 - mse: 663834.7500 - val_loss: 106873.6790 - val_mse: 106873.6484\n"
     ]
    }
   ],
   "source": [
    "cnn_history = cnn_model.fit(x_train, y_train, \\\n",
    "                            epochs=5, batch_size=512, \\\n",
    "                            verbose=2, \\\n",
    "                            validation_data = [x_test, y_test])"
   ]
  },
  {
   "cell_type": "code",
   "execution_count": 23,
   "metadata": {},
   "outputs": [
    {
     "data": {
      "image/png": "[encoded data removed]",
      "text/plain": [
       "<Figure size 432x288 with 1 Axes>"
      ]
     },
     "metadata": {
      "needs_background": "light"
     },
     "output_type": "display_data"
    }
   ],
   "source": [
    "#Plotting of our CNN model \n",
    "plt.plot(cnn_history.history['loss'])\n",
    "plt.plot(cnn_history.history['val_loss'])\n",
    "plt.title('CNN model loss')\n",
    "plt.ylabel('loss')\n",
    "plt.xlabel('epoch')\n",
    "plt.legend(['train', 'test'], loc='upper right')\n",
    "plt.show()"
   ]
  },
  {
   "cell_type": "code",
   "execution_count": null,
   "metadata": {},
   "outputs": [],
   "source": []
  }
 ],
 "metadata": {
  "kernelspec": {
   "display_name": "Python 3",
   "language": "python",
   "name": "python3"
  },
  "language_info": {
   "codemirror_mode": {
    "name": "ipython",
    "version": 3
   },
   "file_extension": ".py",
   "mimetype": "text/x-python",
   "name": "python",
   "nbconvert_exporter": "python",
   "pygments_lexer": "ipython3",
   "version": "3.8.3"
  }
 },
 "nbformat": 4,
 "nbformat_minor": 2
}
